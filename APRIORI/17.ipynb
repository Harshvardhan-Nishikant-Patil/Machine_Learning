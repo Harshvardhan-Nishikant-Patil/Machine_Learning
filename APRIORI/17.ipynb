{
 "cells": [
  {
   "cell_type": "code",
   "execution_count": 1,
   "id": "1f287417",
   "metadata": {},
   "outputs": [],
   "source": [
    "import pandas as pd\n",
    "import numpy as np\n",
    "from apyori import apriori\n",
    "#from mlxtend.frequent_patterns import apriori\n",
    "from mlxtend.frequent_patterns import association_rules\n",
    "from apyori import "
   ]
  },
  {
   "cell_type": "code",
   "execution_count": 2,
   "id": "24cffb7d",
   "metadata": {},
   "outputs": [
    {
     "data": {
      "text/html": [
       "<div>\n",
       "<style scoped>\n",
       "    .dataframe tbody tr th:only-of-type {\n",
       "        vertical-align: middle;\n",
       "    }\n",
       "\n",
       "    .dataframe tbody tr th {\n",
       "        vertical-align: top;\n",
       "    }\n",
       "\n",
       "    .dataframe thead th {\n",
       "        text-align: right;\n",
       "    }\n",
       "</style>\n",
       "<table border=\"1\" class=\"dataframe\">\n",
       "  <thead>\n",
       "    <tr style=\"text-align: right;\">\n",
       "      <th></th>\n",
       "      <th>TransactionNo</th>\n",
       "      <th>Items</th>\n",
       "      <th>DateTime</th>\n",
       "      <th>Daypart</th>\n",
       "      <th>DayType</th>\n",
       "    </tr>\n",
       "  </thead>\n",
       "  <tbody>\n",
       "    <tr>\n",
       "      <th>0</th>\n",
       "      <td>1</td>\n",
       "      <td>Bread</td>\n",
       "      <td>10/30/2016 9:58</td>\n",
       "      <td>Morning</td>\n",
       "      <td>Weekend</td>\n",
       "    </tr>\n",
       "    <tr>\n",
       "      <th>1</th>\n",
       "      <td>2</td>\n",
       "      <td>Scandinavian</td>\n",
       "      <td>10/30/2016 10:05</td>\n",
       "      <td>Morning</td>\n",
       "      <td>Weekend</td>\n",
       "    </tr>\n",
       "    <tr>\n",
       "      <th>2</th>\n",
       "      <td>2</td>\n",
       "      <td>Scandinavian</td>\n",
       "      <td>10/30/2016 10:05</td>\n",
       "      <td>Morning</td>\n",
       "      <td>Weekend</td>\n",
       "    </tr>\n",
       "    <tr>\n",
       "      <th>3</th>\n",
       "      <td>3</td>\n",
       "      <td>Hot chocolate</td>\n",
       "      <td>10/30/2016 10:07</td>\n",
       "      <td>Morning</td>\n",
       "      <td>Weekend</td>\n",
       "    </tr>\n",
       "    <tr>\n",
       "      <th>4</th>\n",
       "      <td>3</td>\n",
       "      <td>Jam</td>\n",
       "      <td>10/30/2016 10:07</td>\n",
       "      <td>Morning</td>\n",
       "      <td>Weekend</td>\n",
       "    </tr>\n",
       "    <tr>\n",
       "      <th>...</th>\n",
       "      <td>...</td>\n",
       "      <td>...</td>\n",
       "      <td>...</td>\n",
       "      <td>...</td>\n",
       "      <td>...</td>\n",
       "    </tr>\n",
       "    <tr>\n",
       "      <th>20502</th>\n",
       "      <td>9682</td>\n",
       "      <td>Coffee</td>\n",
       "      <td>9/4/2017 14:32</td>\n",
       "      <td>Afternoon</td>\n",
       "      <td>Weekend</td>\n",
       "    </tr>\n",
       "    <tr>\n",
       "      <th>20503</th>\n",
       "      <td>9682</td>\n",
       "      <td>Tea</td>\n",
       "      <td>9/4/2017 14:32</td>\n",
       "      <td>Afternoon</td>\n",
       "      <td>Weekend</td>\n",
       "    </tr>\n",
       "    <tr>\n",
       "      <th>20504</th>\n",
       "      <td>9683</td>\n",
       "      <td>Coffee</td>\n",
       "      <td>9/4/2017 14:57</td>\n",
       "      <td>Afternoon</td>\n",
       "      <td>Weekend</td>\n",
       "    </tr>\n",
       "    <tr>\n",
       "      <th>20505</th>\n",
       "      <td>9683</td>\n",
       "      <td>Pastry</td>\n",
       "      <td>9/4/2017 14:57</td>\n",
       "      <td>Afternoon</td>\n",
       "      <td>Weekend</td>\n",
       "    </tr>\n",
       "    <tr>\n",
       "      <th>20506</th>\n",
       "      <td>9684</td>\n",
       "      <td>Smoothies</td>\n",
       "      <td>9/4/2017 15:04</td>\n",
       "      <td>Afternoon</td>\n",
       "      <td>Weekend</td>\n",
       "    </tr>\n",
       "  </tbody>\n",
       "</table>\n",
       "<p>20507 rows × 5 columns</p>\n",
       "</div>"
      ],
      "text/plain": [
       "       TransactionNo          Items          DateTime    Daypart  DayType\n",
       "0                  1          Bread   10/30/2016 9:58    Morning  Weekend\n",
       "1                  2   Scandinavian  10/30/2016 10:05    Morning  Weekend\n",
       "2                  2   Scandinavian  10/30/2016 10:05    Morning  Weekend\n",
       "3                  3  Hot chocolate  10/30/2016 10:07    Morning  Weekend\n",
       "4                  3            Jam  10/30/2016 10:07    Morning  Weekend\n",
       "...              ...            ...               ...        ...      ...\n",
       "20502           9682         Coffee    9/4/2017 14:32  Afternoon  Weekend\n",
       "20503           9682            Tea    9/4/2017 14:32  Afternoon  Weekend\n",
       "20504           9683         Coffee    9/4/2017 14:57  Afternoon  Weekend\n",
       "20505           9683         Pastry    9/4/2017 14:57  Afternoon  Weekend\n",
       "20506           9684      Smoothies    9/4/2017 15:04  Afternoon  Weekend\n",
       "\n",
       "[20507 rows x 5 columns]"
      ]
     },
     "execution_count": 2,
     "metadata": {},
     "output_type": "execute_result"
    }
   ],
   "source": [
    "dt=pd.read_csv('Oder3.csv')\n",
    "dt"
   ]
  },
  {
   "cell_type": "code",
   "execution_count": 3,
   "id": "bc048cf6",
   "metadata": {},
   "outputs": [],
   "source": [
    "an=[]\n",
    "for i in range(0,200):\n",
    "    an.append([str(dt.values[i,j]) for j in range(0,5)])"
   ]
  },
  {
   "cell_type": "code",
   "execution_count": 4,
   "id": "664a046e",
   "metadata": {},
   "outputs": [],
   "source": [
    "tp=apriori(an,min_support=0.1)\n",
    "tp_n=list(tp)"
   ]
  },
  {
   "cell_type": "code",
   "execution_count": null,
   "id": "ff9de4e7",
   "metadata": {},
   "outputs": [],
   "source": []
  },
  {
   "cell_type": "code",
   "execution_count": 5,
   "id": "57f5fcea",
   "metadata": {},
   "outputs": [
    {
     "name": "stdout",
     "output_type": "stream",
     "text": [
      "16\n"
     ]
    }
   ],
   "source": [
    "print(len(tp_n))"
   ]
  },
  {
   "cell_type": "code",
   "execution_count": 6,
   "id": "343857dd",
   "metadata": {},
   "outputs": [
    {
     "data": {
      "text/plain": [
       "[RelationRecord(items=frozenset({'Afternoon'}), support=0.42, ordered_statistics=[OrderedStatistic(items_base=frozenset(), items_add=frozenset({'Afternoon'}), confidence=0.42, lift=1.0)]),\n",
       " RelationRecord(items=frozenset({'Bread'}), support=0.18, ordered_statistics=[OrderedStatistic(items_base=frozenset(), items_add=frozenset({'Bread'}), confidence=0.18, lift=1.0)]),\n",
       " RelationRecord(items=frozenset({'Coffee'}), support=0.215, ordered_statistics=[OrderedStatistic(items_base=frozenset(), items_add=frozenset({'Coffee'}), confidence=0.215, lift=1.0)]),\n",
       " RelationRecord(items=frozenset({'Morning'}), support=0.58, ordered_statistics=[OrderedStatistic(items_base=frozenset(), items_add=frozenset({'Morning'}), confidence=0.58, lift=1.0)]),\n",
       " RelationRecord(items=frozenset({'Weekday'}), support=0.15, ordered_statistics=[OrderedStatistic(items_base=frozenset(), items_add=frozenset({'Weekday'}), confidence=0.15, lift=1.0)]),\n",
       " RelationRecord(items=frozenset({'Weekend'}), support=0.85, ordered_statistics=[OrderedStatistic(items_base=frozenset(), items_add=frozenset({'Weekend'}), confidence=0.85, lift=1.0)]),\n",
       " RelationRecord(items=frozenset({'Coffee', 'Afternoon'}), support=0.105, ordered_statistics=[OrderedStatistic(items_base=frozenset(), items_add=frozenset({'Coffee', 'Afternoon'}), confidence=0.105, lift=1.0), OrderedStatistic(items_base=frozenset({'Afternoon'}), items_add=frozenset({'Coffee'}), confidence=0.25, lift=1.1627906976744187), OrderedStatistic(items_base=frozenset({'Coffee'}), items_add=frozenset({'Afternoon'}), confidence=0.4883720930232558, lift=1.1627906976744187)]),\n",
       " RelationRecord(items=frozenset({'Weekend', 'Afternoon'}), support=0.42, ordered_statistics=[OrderedStatistic(items_base=frozenset(), items_add=frozenset({'Weekend', 'Afternoon'}), confidence=0.42, lift=1.0), OrderedStatistic(items_base=frozenset({'Afternoon'}), items_add=frozenset({'Weekend'}), confidence=1.0, lift=1.1764705882352942), OrderedStatistic(items_base=frozenset({'Weekend'}), items_add=frozenset({'Afternoon'}), confidence=0.49411764705882355, lift=1.1764705882352942)]),\n",
       " RelationRecord(items=frozenset({'Morning', 'Bread'}), support=0.135, ordered_statistics=[OrderedStatistic(items_base=frozenset(), items_add=frozenset({'Morning', 'Bread'}), confidence=0.135, lift=1.0), OrderedStatistic(items_base=frozenset({'Bread'}), items_add=frozenset({'Morning'}), confidence=0.7500000000000001, lift=1.2931034482758623), OrderedStatistic(items_base=frozenset({'Morning'}), items_add=frozenset({'Bread'}), confidence=0.2327586206896552, lift=1.2931034482758623)]),\n",
       " RelationRecord(items=frozenset({'Bread', 'Weekend'}), support=0.145, ordered_statistics=[OrderedStatistic(items_base=frozenset(), items_add=frozenset({'Bread', 'Weekend'}), confidence=0.145, lift=1.0), OrderedStatistic(items_base=frozenset({'Bread'}), items_add=frozenset({'Weekend'}), confidence=0.8055555555555556, lift=0.9477124183006537), OrderedStatistic(items_base=frozenset({'Weekend'}), items_add=frozenset({'Bread'}), confidence=0.17058823529411765, lift=0.9477124183006537)]),\n",
       " RelationRecord(items=frozenset({'Morning', 'Coffee'}), support=0.11, ordered_statistics=[OrderedStatistic(items_base=frozenset(), items_add=frozenset({'Morning', 'Coffee'}), confidence=0.11, lift=1.0), OrderedStatistic(items_base=frozenset({'Coffee'}), items_add=frozenset({'Morning'}), confidence=0.5116279069767442, lift=0.8821170809943866), OrderedStatistic(items_base=frozenset({'Morning'}), items_add=frozenset({'Coffee'}), confidence=0.18965517241379312, lift=0.8821170809943866)]),\n",
       " RelationRecord(items=frozenset({'Coffee', 'Weekend'}), support=0.165, ordered_statistics=[OrderedStatistic(items_base=frozenset(), items_add=frozenset({'Coffee', 'Weekend'}), confidence=0.165, lift=1.0), OrderedStatistic(items_base=frozenset({'Coffee'}), items_add=frozenset({'Weekend'}), confidence=0.7674418604651163, lift=0.9028727770177839), OrderedStatistic(items_base=frozenset({'Weekend'}), items_add=frozenset({'Coffee'}), confidence=0.19411764705882353, lift=0.9028727770177839)]),\n",
       " RelationRecord(items=frozenset({'Morning', 'Weekday'}), support=0.15, ordered_statistics=[OrderedStatistic(items_base=frozenset(), items_add=frozenset({'Morning', 'Weekday'}), confidence=0.15, lift=1.0), OrderedStatistic(items_base=frozenset({'Morning'}), items_add=frozenset({'Weekday'}), confidence=0.25862068965517243, lift=1.7241379310344829), OrderedStatistic(items_base=frozenset({'Weekday'}), items_add=frozenset({'Morning'}), confidence=1.0, lift=1.7241379310344829)]),\n",
       " RelationRecord(items=frozenset({'Morning', 'Weekend'}), support=0.43, ordered_statistics=[OrderedStatistic(items_base=frozenset(), items_add=frozenset({'Morning', 'Weekend'}), confidence=0.43, lift=1.0), OrderedStatistic(items_base=frozenset({'Morning'}), items_add=frozenset({'Weekend'}), confidence=0.7413793103448276, lift=0.872210953346856), OrderedStatistic(items_base=frozenset({'Weekend'}), items_add=frozenset({'Morning'}), confidence=0.5058823529411764, lift=0.872210953346856)]),\n",
       " RelationRecord(items=frozenset({'Coffee', 'Weekend', 'Afternoon'}), support=0.105, ordered_statistics=[OrderedStatistic(items_base=frozenset(), items_add=frozenset({'Coffee', 'Weekend', 'Afternoon'}), confidence=0.105, lift=1.0), OrderedStatistic(items_base=frozenset({'Afternoon'}), items_add=frozenset({'Coffee', 'Weekend'}), confidence=0.25, lift=1.5151515151515151), OrderedStatistic(items_base=frozenset({'Coffee'}), items_add=frozenset({'Weekend', 'Afternoon'}), confidence=0.4883720930232558, lift=1.1627906976744187), OrderedStatistic(items_base=frozenset({'Weekend'}), items_add=frozenset({'Coffee', 'Afternoon'}), confidence=0.12352941176470589, lift=1.1764705882352942), OrderedStatistic(items_base=frozenset({'Coffee', 'Afternoon'}), items_add=frozenset({'Weekend'}), confidence=1.0, lift=1.1764705882352942), OrderedStatistic(items_base=frozenset({'Weekend', 'Afternoon'}), items_add=frozenset({'Coffee'}), confidence=0.25, lift=1.1627906976744187), OrderedStatistic(items_base=frozenset({'Coffee', 'Weekend'}), items_add=frozenset({'Afternoon'}), confidence=0.6363636363636364, lift=1.5151515151515151)]),\n",
       " RelationRecord(items=frozenset({'Morning', 'Bread', 'Weekend'}), support=0.1, ordered_statistics=[OrderedStatistic(items_base=frozenset(), items_add=frozenset({'Morning', 'Bread', 'Weekend'}), confidence=0.1, lift=1.0), OrderedStatistic(items_base=frozenset({'Bread'}), items_add=frozenset({'Morning', 'Weekend'}), confidence=0.5555555555555556, lift=1.2919896640826873), OrderedStatistic(items_base=frozenset({'Morning'}), items_add=frozenset({'Bread', 'Weekend'}), confidence=0.1724137931034483, lift=1.189060642092747), OrderedStatistic(items_base=frozenset({'Weekend'}), items_add=frozenset({'Morning', 'Bread'}), confidence=0.11764705882352942, lift=0.8714596949891068), OrderedStatistic(items_base=frozenset({'Morning', 'Bread'}), items_add=frozenset({'Weekend'}), confidence=0.7407407407407407, lift=0.8714596949891067), OrderedStatistic(items_base=frozenset({'Bread', 'Weekend'}), items_add=frozenset({'Morning'}), confidence=0.6896551724137931, lift=1.189060642092747), OrderedStatistic(items_base=frozenset({'Morning', 'Weekend'}), items_add=frozenset({'Bread'}), confidence=0.23255813953488375, lift=1.2919896640826876)])]"
      ]
     },
     "execution_count": 6,
     "metadata": {},
     "output_type": "execute_result"
    }
   ],
   "source": [
    "tp_n"
   ]
  },
  {
   "cell_type": "code",
   "execution_count": 7,
   "id": "319a6dde",
   "metadata": {},
   "outputs": [],
   "source": [
    "?apriori"
   ]
  },
  {
   "cell_type": "code",
   "execution_count": null,
   "id": "fbad1a6d",
   "metadata": {},
   "outputs": [],
   "source": []
  }
 ],
 "metadata": {
  "kernelspec": {
   "display_name": "Python 3 (ipykernel)",
   "language": "python",
   "name": "python3"
  },
  "language_info": {
   "codemirror_mode": {
    "name": "ipython",
    "version": 3
   },
   "file_extension": ".py",
   "mimetype": "text/x-python",
   "name": "python",
   "nbconvert_exporter": "python",
   "pygments_lexer": "ipython3",
   "version": "3.8.10"
  }
 },
 "nbformat": 4,
 "nbformat_minor": 5
}
